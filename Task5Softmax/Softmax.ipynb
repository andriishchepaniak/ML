{
 "cells": [
  {
   "cell_type": "markdown",
   "metadata": {},
   "source": [
    "В цій практичній роботі ми спробуємо реалізувати нейронну мережу з двох шарів (прихований і вихідний). Запропонований підхід стане заготовкою для реалізації наступних оптимізацій: MBGD, ADAM та регуляризації. \n",
    "\n",
    "Сьогодні ж вам пропонується додати до цього класу підтримку довільної кількості шарів та нейронів в них (наприклад, передавати їх параметром в конструктор, як це робиться в MLPClassifier за допомогою hidden_layer_sizes). Також потрібно передбачити можливість ранньої зупинки ітераційного процесу, якщо значення штрафної функції не покращуватиметься протягом певної кількості ітерацій. Наприклад, якщо протягом $k$ ітерацій штрафна функція за модулем не стане меншою, ніж на поточному кроці."
   ]
  },
  {
   "cell_type": "code",
   "execution_count": 20,
   "metadata": {},
   "outputs": [
    {
     "name": "stderr",
     "output_type": "stream",
     "text": [
      "Using TensorFlow backend.\n"
     ]
    }
   ],
   "source": [
    "import numpy as np\n",
    "import pandas as pd\n",
    "from sklearn.model_selection import train_test_split\n",
    "from mpl_toolkits.mplot3d import Axes3D\n",
    "import matplotlib.pyplot as plt\n",
    "\n",
    "from matplotlib.colors import ListedColormap\n",
    "cm_bright = ListedColormap(['#FF0000', '#0000FF'])\n",
    "%matplotlib inline\n",
    "from sklearn.metrics import accuracy_score\n",
    "from keras.utils import to_categorical\n",
    "\n",
    "import sklearn.linear_model"
   ]
  },
  {
   "cell_type": "code",
   "execution_count": 651,
   "metadata": {},
   "outputs": [],
   "source": [
    "class NeuralNet:\n",
    "    \n",
    "    \n",
    "    def __init__(self, normalize = True, learning_rate = 0.01, max_iter = 30000, hidden_layer_sizes=(100,), epsilon=1e-6):\n",
    "        self.learning_rate = learning_rate\n",
    "        self.max_iter = max_iter\n",
    "        self.normalize = normalize\n",
    "        self.hidden_layer_sizes = hidden_layer_sizes\n",
    "        self.n_layers = 1 + len(hidden_layer_sizes)\n",
    "        self.epsilon = epsilon\n",
    "    \n",
    "    def __normalize(self, X, mean = None, std = None):\n",
    "        n = X.shape[0]\n",
    "        m = mean\n",
    "        if m is None:\n",
    "            m = np.mean(X, axis=1).reshape((n, 1))\n",
    "        s = std\n",
    "        if s is None:\n",
    "            s = np.std(X, axis=1).reshape((n, 1))\n",
    "        X_new = (X - m) / s**2\n",
    "        return X_new, m, s\n",
    "\n",
    "    def __sigmoid(self, Z):\n",
    "        return 1 / (1 + np.exp(-Z))\n",
    "    \n",
    "    def softmax(self, Z):\n",
    "        expZ = np.exp(Z - np.max(Z))\n",
    "        return expZ / expZ.sum(axis=0, keepdims=True)\n",
    "    \n",
    "    def __initialize_parameters(self, n_x, hidden_layers, n_y):\n",
    "        np.random.seed(1)\n",
    "        W = list()\n",
    "        b = list()\n",
    "        \n",
    "        h = list(hidden_layers)\n",
    "        h.insert(0, n_x)\n",
    "        h.append(n_y)\n",
    "        hidden_layers = tuple(h)\n",
    "        \n",
    "        for i in range(1, self.n_layers+1):\n",
    "            W.append(np.random.randn(hidden_layers[i], hidden_layers[i-1]) / np.sqrt(\n",
    "                hidden_layers[i - 1]))\n",
    "            b.append(np.zeros((hidden_layers[i], 1)))\n",
    "\n",
    "        self.parameters = {\"W\" : W, \"b\" : b}\n",
    "    \n",
    "    def __forward_propagation(self, X):\n",
    "        W = self.parameters[\"W\"]\n",
    "        b = self.parameters[\"b\"]\n",
    "\n",
    "        A = list()\n",
    "        Z = list()\n",
    "               \n",
    "        for i in range(0, self.n_layers-1):\n",
    "            if i == 0:\n",
    "                Z.append(np.dot(W[i], X) + b[i])\n",
    "            else:\n",
    "                Z.append(np.dot(W[i], A[i-1]) + b[i])\n",
    "            A.append(self.__sigmoid(Z[i]))\n",
    "        \n",
    "        Z.append(np.dot(W[-1], A[-1]) + b[-1])\n",
    "        A.append(self.softmax(Z[-1]))\n",
    "        \n",
    "        cache = (W, b, Z, A)\n",
    "\n",
    "        return A[-1], cache\n",
    "    \n",
    "    def __sigmoid_derivative(self, Z):\n",
    "        s = 1 / (1 + np.exp(-Z))\n",
    "        return np.multiply(s, (1 - s))\n",
    "    \n",
    "    def cross_entropy(self, A, Y):\n",
    "        return - np.sum(np.log(A) * (Y), axis=1)\n",
    "    \n",
    "    def compute_cost(self, A, Y):\n",
    "        J = -np.mean(Y.T * np.log(A.T+ 1e-8))\n",
    "        return J\n",
    "        \n",
    "    def __backward_propagation(self, X, Y, cache):\n",
    "        m = X.shape[1]\n",
    "        n = X.shape[0]\n",
    "        (W, b, Z, A) = cache\n",
    "        \n",
    "        dW = [None] * (self.n_layers)\n",
    "        dA = [None] * (self.n_layers)\n",
    "        dZ = [None] * (self.n_layers)\n",
    "        db = [None] * (self.n_layers)\n",
    "        \n",
    "        dZ[-1] = (A[-1] - Y)\n",
    "        dW[-1] = (1. / m * np.dot(dZ[-1], A[-2].T))\n",
    "        db[-1] = (1. / m * np.sum(dZ[-1], axis = 1, keepdims = True))\n",
    "        dA[-1] = np.dot(W[-1].T, dZ[-1])\n",
    "        \n",
    "        for i in range(self.n_layers-1, 0, -1):\n",
    "            dZ[i-1] = np.multiply(dA[i], self.__sigmoid_derivative(Z[i-1]))\n",
    "            if i-1 == 0:\n",
    "                dW[i-1] = 1. / m * np.dot(dZ[i-1], X.T)\n",
    "            else:\n",
    "                dW[i-1] = 1. / m * np.dot(dZ[i-1], A[i-2].T)\n",
    "            db[i-1] = 1. / m * np.sum(dZ[i-1], axis = 1, keepdims = True) \n",
    "            dA[i-1] = np.dot(W[i-1].T, dZ[i-1])\n",
    "        \n",
    "        grads = {\"dZ\" : dZ, \"dW\" : dW, \"db\" : db}\n",
    "        return grads\n",
    "    \n",
    "    def __update_parameters(self, grads):\n",
    "        W = self.parameters[\"W\"]\n",
    "        b = self.parameters[\"b\"]\n",
    "\n",
    "        dW = grads[\"dW\"]\n",
    "        db = grads[\"db\"]\n",
    "        \n",
    "        for i in range(self.n_layers):\n",
    "            W[i] = W[i] - self.learning_rate * dW[i]\n",
    "            b[i] = b[i] - self.learning_rate * db[i]\n",
    "\n",
    "    def fit(self, X_vert, Y_vert, print_cost = True):\n",
    "        self.n_iter = 0\n",
    "        X, Y = X_vert.T, Y_vert.T\n",
    "        \n",
    "        if self.normalize:\n",
    "            X, self.__mean, self.__std = self.__normalize(X)\n",
    "        \n",
    "        costs = []\n",
    "        cost_history = []\n",
    "        \n",
    "        m = X.shape[1]\n",
    "        n_x = X.shape[0]\n",
    "        n_y = Y.shape[0]\n",
    "        \n",
    "        self.__initialize_parameters(n_x, self.hidden_layer_sizes, n_y)\n",
    "\n",
    "        for i in range(self.max_iter):\n",
    "            self.n_iter = i\n",
    "            A, cache = self.__forward_propagation(X)\n",
    "\n",
    "            cost = self.compute_cost(A, Y)\n",
    "\n",
    "            grads = self.__backward_propagation(X, Y, cache)\n",
    "\n",
    "            self.__update_parameters(grads)\n",
    "            \n",
    "            cost_history.append(cost)\n",
    "            \n",
    "            if print_cost and i % 100 == 0:\n",
    "                print(\"{}-th iteration: {}\".format(i, cost))\n",
    "\n",
    "            if i % 100 == 0:\n",
    "                costs.append(cost)\n",
    "  \n",
    "            if i > 1 and abs(cost-cost_history[-2]) < self.epsilon:\n",
    "                break\n",
    "\n",
    "        if print_cost:\n",
    "            plt.plot(costs)\n",
    "            plt.ylabel(\"Cost\")\n",
    "            plt.xlabel(\"Iteration, *100\")\n",
    "            plt.show()\n",
    "    \n",
    "    def predict_proba(self, X_vert):\n",
    "        X = X_vert.T\n",
    "        if self.normalize:\n",
    "            X, _, _ = self.__normalize(X, self.__mean, self.__std)\n",
    "        \n",
    "        probs = self.__forward_propagation(X)[0]\n",
    "        \n",
    "        return probs.T\n",
    "    \n",
    "    def predict(self, X_vert):\n",
    "        positive_probs = self.predict_proba(X_vert)\n",
    "        y_pred = self.to_classlabel(positive_probs)\n",
    "        return y_pred  \n",
    "\n",
    "    def to_classlabel(self, z):\n",
    "        return z.argmax(axis=1)"
   ]
  },
  {
   "cell_type": "code",
   "execution_count": 7,
   "metadata": {
    "scrolled": true
   },
   "outputs": [
    {
     "data": {
      "text/html": [
       "<div>\n",
       "<style scoped>\n",
       "    .dataframe tbody tr th:only-of-type {\n",
       "        vertical-align: middle;\n",
       "    }\n",
       "\n",
       "    .dataframe tbody tr th {\n",
       "        vertical-align: top;\n",
       "    }\n",
       "\n",
       "    .dataframe thead th {\n",
       "        text-align: right;\n",
       "    }\n",
       "</style>\n",
       "<table border=\"1\" class=\"dataframe\">\n",
       "  <thead>\n",
       "    <tr style=\"text-align: right;\">\n",
       "      <th></th>\n",
       "      <th>label</th>\n",
       "      <th>pixel0</th>\n",
       "      <th>pixel1</th>\n",
       "      <th>pixel2</th>\n",
       "      <th>pixel3</th>\n",
       "      <th>pixel4</th>\n",
       "      <th>pixel5</th>\n",
       "      <th>pixel6</th>\n",
       "      <th>pixel7</th>\n",
       "      <th>pixel8</th>\n",
       "      <th>...</th>\n",
       "      <th>pixel774</th>\n",
       "      <th>pixel775</th>\n",
       "      <th>pixel776</th>\n",
       "      <th>pixel777</th>\n",
       "      <th>pixel778</th>\n",
       "      <th>pixel779</th>\n",
       "      <th>pixel780</th>\n",
       "      <th>pixel781</th>\n",
       "      <th>pixel782</th>\n",
       "      <th>pixel783</th>\n",
       "    </tr>\n",
       "  </thead>\n",
       "  <tbody>\n",
       "    <tr>\n",
       "      <th>0</th>\n",
       "      <td>1</td>\n",
       "      <td>0</td>\n",
       "      <td>0</td>\n",
       "      <td>0</td>\n",
       "      <td>0</td>\n",
       "      <td>0</td>\n",
       "      <td>0</td>\n",
       "      <td>0</td>\n",
       "      <td>0</td>\n",
       "      <td>0</td>\n",
       "      <td>...</td>\n",
       "      <td>0</td>\n",
       "      <td>0</td>\n",
       "      <td>0</td>\n",
       "      <td>0</td>\n",
       "      <td>0</td>\n",
       "      <td>0</td>\n",
       "      <td>0</td>\n",
       "      <td>0</td>\n",
       "      <td>0</td>\n",
       "      <td>0</td>\n",
       "    </tr>\n",
       "    <tr>\n",
       "      <th>1</th>\n",
       "      <td>0</td>\n",
       "      <td>0</td>\n",
       "      <td>0</td>\n",
       "      <td>0</td>\n",
       "      <td>0</td>\n",
       "      <td>0</td>\n",
       "      <td>0</td>\n",
       "      <td>0</td>\n",
       "      <td>0</td>\n",
       "      <td>0</td>\n",
       "      <td>...</td>\n",
       "      <td>0</td>\n",
       "      <td>0</td>\n",
       "      <td>0</td>\n",
       "      <td>0</td>\n",
       "      <td>0</td>\n",
       "      <td>0</td>\n",
       "      <td>0</td>\n",
       "      <td>0</td>\n",
       "      <td>0</td>\n",
       "      <td>0</td>\n",
       "    </tr>\n",
       "    <tr>\n",
       "      <th>2</th>\n",
       "      <td>1</td>\n",
       "      <td>0</td>\n",
       "      <td>0</td>\n",
       "      <td>0</td>\n",
       "      <td>0</td>\n",
       "      <td>0</td>\n",
       "      <td>0</td>\n",
       "      <td>0</td>\n",
       "      <td>0</td>\n",
       "      <td>0</td>\n",
       "      <td>...</td>\n",
       "      <td>0</td>\n",
       "      <td>0</td>\n",
       "      <td>0</td>\n",
       "      <td>0</td>\n",
       "      <td>0</td>\n",
       "      <td>0</td>\n",
       "      <td>0</td>\n",
       "      <td>0</td>\n",
       "      <td>0</td>\n",
       "      <td>0</td>\n",
       "    </tr>\n",
       "    <tr>\n",
       "      <th>3</th>\n",
       "      <td>4</td>\n",
       "      <td>0</td>\n",
       "      <td>0</td>\n",
       "      <td>0</td>\n",
       "      <td>0</td>\n",
       "      <td>0</td>\n",
       "      <td>0</td>\n",
       "      <td>0</td>\n",
       "      <td>0</td>\n",
       "      <td>0</td>\n",
       "      <td>...</td>\n",
       "      <td>0</td>\n",
       "      <td>0</td>\n",
       "      <td>0</td>\n",
       "      <td>0</td>\n",
       "      <td>0</td>\n",
       "      <td>0</td>\n",
       "      <td>0</td>\n",
       "      <td>0</td>\n",
       "      <td>0</td>\n",
       "      <td>0</td>\n",
       "    </tr>\n",
       "    <tr>\n",
       "      <th>4</th>\n",
       "      <td>0</td>\n",
       "      <td>0</td>\n",
       "      <td>0</td>\n",
       "      <td>0</td>\n",
       "      <td>0</td>\n",
       "      <td>0</td>\n",
       "      <td>0</td>\n",
       "      <td>0</td>\n",
       "      <td>0</td>\n",
       "      <td>0</td>\n",
       "      <td>...</td>\n",
       "      <td>0</td>\n",
       "      <td>0</td>\n",
       "      <td>0</td>\n",
       "      <td>0</td>\n",
       "      <td>0</td>\n",
       "      <td>0</td>\n",
       "      <td>0</td>\n",
       "      <td>0</td>\n",
       "      <td>0</td>\n",
       "      <td>0</td>\n",
       "    </tr>\n",
       "  </tbody>\n",
       "</table>\n",
       "<p>5 rows × 785 columns</p>\n",
       "</div>"
      ],
      "text/plain": [
       "   label  pixel0  pixel1  pixel2  pixel3  pixel4  pixel5  pixel6  pixel7  \\\n",
       "0      1       0       0       0       0       0       0       0       0   \n",
       "1      0       0       0       0       0       0       0       0       0   \n",
       "2      1       0       0       0       0       0       0       0       0   \n",
       "3      4       0       0       0       0       0       0       0       0   \n",
       "4      0       0       0       0       0       0       0       0       0   \n",
       "\n",
       "   pixel8  ...  pixel774  pixel775  pixel776  pixel777  pixel778  pixel779  \\\n",
       "0       0  ...         0         0         0         0         0         0   \n",
       "1       0  ...         0         0         0         0         0         0   \n",
       "2       0  ...         0         0         0         0         0         0   \n",
       "3       0  ...         0         0         0         0         0         0   \n",
       "4       0  ...         0         0         0         0         0         0   \n",
       "\n",
       "   pixel780  pixel781  pixel782  pixel783  \n",
       "0         0         0         0         0  \n",
       "1         0         0         0         0  \n",
       "2         0         0         0         0  \n",
       "3         0         0         0         0  \n",
       "4         0         0         0         0  \n",
       "\n",
       "[5 rows x 785 columns]"
      ]
     },
     "execution_count": 7,
     "metadata": {},
     "output_type": "execute_result"
    }
   ],
   "source": [
    "df = pd.read_csv('train.csv')\n",
    "df.head()"
   ]
  },
  {
   "cell_type": "code",
   "execution_count": 9,
   "metadata": {},
   "outputs": [
    {
     "data": {
      "text/plain": [
       "(42000, 785)"
      ]
     },
     "execution_count": 9,
     "metadata": {},
     "output_type": "execute_result"
    }
   ],
   "source": [
    "df.shape"
   ]
  },
  {
   "cell_type": "code",
   "execution_count": 8,
   "metadata": {},
   "outputs": [],
   "source": [
    "y = df[\"label\"]\n",
    "X = df.drop('label', axis = 1)"
   ]
  },
  {
   "cell_type": "code",
   "execution_count": 17,
   "metadata": {},
   "outputs": [
    {
     "data": {
      "image/png": "[encoded data removed]",
      "text/plain": [
       "<Figure size 432x288 with 4 Axes>"
      ]
     },
     "metadata": {
      "needs_background": "light"
     },
     "output_type": "display_data"
    }
   ],
   "source": [
    "fig, axs = plt.subplots(2, 2)\n",
    "axs[0, 0].imshow(X.iloc[0].values.reshape(28, 28), cmap=plt.get_cmap('gray'))\n",
    "axs[0, 1].imshow(X.iloc[4].values.reshape(28, 28), cmap=plt.get_cmap('gray'))\n",
    "axs[1, 0].imshow(X.iloc[9].values.reshape(28, 28), cmap=plt.get_cmap('gray'))\n",
    "axs[1, 1].imshow(X.iloc[28].values.reshape(28, 28), cmap=plt.get_cmap('gray'))\n",
    "plt.show()"
   ]
  },
  {
   "cell_type": "code",
   "execution_count": 24,
   "metadata": {},
   "outputs": [
    {
     "name": "stdout",
     "output_type": "stream",
     "text": [
      "Training set: X=(33600, 784), y=(33600,)\n",
      "Test set: X=(8400, 784), y=(8400,)\n"
     ]
    }
   ],
   "source": [
    "X_train, X_test, y_train, y_test = train_test_split(X, y, test_size = 0.2, random_state=42)\n",
    "print('Training set: X={}, y={}'.format(X_train.shape, y_train.shape))\n",
    "print('Test set: X={}, y={}'.format(X_test.shape, y_test.shape))"
   ]
  },
  {
   "cell_type": "code",
   "execution_count": 25,
   "metadata": {},
   "outputs": [],
   "source": [
    "#normalize\n",
    "X_train = X_train / 255\n",
    "X_test = X_test / 255"
   ]
  },
  {
   "cell_type": "code",
   "execution_count": 26,
   "metadata": {},
   "outputs": [],
   "source": [
    "# One hot encoder\n",
    "y_train = to_categorical(y_train)"
   ]
  },
  {
   "cell_type": "code",
   "execution_count": 27,
   "metadata": {},
   "outputs": [
    {
     "data": {
      "text/plain": [
       "(33600, 10)"
      ]
     },
     "execution_count": 27,
     "metadata": {},
     "output_type": "execute_result"
    }
   ],
   "source": [
    "y_train.shape"
   ]
  },
  {
   "cell_type": "code",
   "execution_count": 652,
   "metadata": {},
   "outputs": [],
   "source": [
    "cls = NeuralNet(normalize = False, learning_rate = 0.1, max_iter = 1000, hidden_layer_sizes=(50, 10,), epsilon=1e-6)"
   ]
  },
  {
   "cell_type": "code",
   "execution_count": 653,
   "metadata": {},
   "outputs": [
    {
     "data": {
      "text/plain": [
       "3"
      ]
     },
     "execution_count": 653,
     "metadata": {},
     "output_type": "execute_result"
    }
   ],
   "source": [
    "cls.n_layers"
   ]
  },
  {
   "cell_type": "code",
   "execution_count": 654,
   "metadata": {
    "scrolled": false
   },
   "outputs": [
    {
     "name": "stdout",
     "output_type": "stream",
     "text": [
      "0-th iteration: 0.23915385620613866\n",
      "100-th iteration: 0.22755805310909075\n",
      "200-th iteration: 0.22390627532798021\n",
      "300-th iteration: 0.2170743652799578\n",
      "400-th iteration: 0.2040941864357735\n",
      "500-th iteration: 0.1840094334397615\n",
      "600-th iteration: 0.16146010905972835\n",
      "700-th iteration: 0.1412632213271725\n",
      "800-th iteration: 0.1249788962210847\n",
      "900-th iteration: 0.1123697387786823\n"
     ]
    },
    {
     "data": {
      "image/png": "[encoded data removed]",
      "text/plain": [
       "<Figure size 432x288 with 1 Axes>"
      ]
     },
     "metadata": {
      "needs_background": "light"
     },
     "output_type": "display_data"
    }
   ],
   "source": [
    "cls.fit(X_train, y_train)"
   ]
  },
  {
   "cell_type": "code",
   "execution_count": 655,
   "metadata": {},
   "outputs": [
    {
     "data": {
      "text/plain": [
       "999"
      ]
     },
     "execution_count": 655,
     "metadata": {},
     "output_type": "execute_result"
    }
   ],
   "source": [
    "cls.n_iter"
   ]
  },
  {
   "cell_type": "code",
   "execution_count": 656,
   "metadata": {},
   "outputs": [
    {
     "name": "stdout",
     "output_type": "stream",
     "text": [
      "{'W': [array([[ 0.05801233, -0.02184844, -0.01886328, ..., -0.03952047,\n",
      "        -0.01282943,  0.01804935],\n",
      "       [ 0.04349789, -0.06931003, -0.02879208, ...,  0.00740107,\n",
      "        -0.05121538,  0.02238951],\n",
      "       [ 0.01070804, -0.06630862, -0.07682297, ..., -0.06979256,\n",
      "         0.00665085, -0.00013678],\n",
      "       ...,\n",
      "       [-0.01888887, -0.01178202,  0.00488721, ..., -0.00135933,\n",
      "         0.01519459,  0.0302878 ],\n",
      "       [-0.00011539, -0.02882183, -0.0291148 , ..., -0.00321773,\n",
      "         0.0026965 , -0.02912119],\n",
      "       [-0.01333235, -0.05263958,  0.05322715, ...,  0.02176674,\n",
      "        -0.0006411 ,  0.030889  ]]), array([[-8.78610647e-02,  4.11775178e-01, -1.57631936e-01,\n",
      "        -2.76080392e-01,  1.95382616e-01,  1.74061787e-03,\n",
      "         3.48150161e-01,  4.15958340e-01, -3.73956807e-01,\n",
      "        -9.61668145e-01,  6.11887872e-01,  2.89271944e-01,\n",
      "         2.80803318e-01, -9.69579695e-02, -2.05037915e-01,\n",
      "         9.38733714e-02, -1.96420512e-01,  4.64995148e-01,\n",
      "         1.04293056e-01, -2.30622468e-01, -3.10932360e-01,\n",
      "         4.12040480e-01,  1.42999859e-01, -4.92793398e-01,\n",
      "         2.22131012e-01, -6.57725677e-03,  8.23029952e-02,\n",
      "         2.29985247e-01, -2.31107367e-01, -4.11898982e-01,\n",
      "        -1.66275180e-02,  1.31310534e-01, -5.80551806e-01,\n",
      "        -2.14667708e-03,  2.08233215e-01, -9.23337254e-02,\n",
      "        -2.92825588e-01,  1.22859985e-01, -9.30507616e-01,\n",
      "         2.98904802e-01,  2.99816687e-02,  4.57591397e-01,\n",
      "         1.99459704e-01, -2.64129259e-01, -4.25521698e-01,\n",
      "         2.32157611e-01,  5.07013714e-01, -3.04889084e-01,\n",
      "        -3.73880660e-01,  3.15447876e-01],\n",
      "       [-1.82922089e-01, -4.46666515e-01,  4.39987801e-01,\n",
      "         3.95913995e-02, -2.42066055e-01, -2.99383877e-01,\n",
      "        -3.69021141e-03,  2.57267963e-01,  9.99701816e-02,\n",
      "         3.58848498e-01, -3.11306039e-01, -4.43583489e-01,\n",
      "         2.15987594e-01,  1.26058199e-01,  2.18354214e-01,\n",
      "        -3.64059858e-01,  1.72702657e-01, -1.86426201e-01,\n",
      "        -2.72440416e-01,  4.33266159e-01, -1.72124287e-01,\n",
      "        -4.92111854e-01, -2.16015257e-01,  2.71902167e-01,\n",
      "        -2.73317125e-01, -2.06413772e-01,  4.14597254e-02,\n",
      "         9.83252656e-02,  4.37639190e-01,  1.38961959e-01,\n",
      "         2.54803276e-01,  3.33805059e-01, -1.33580210e-02,\n",
      "        -3.74314701e-03,  1.46188304e-01,  1.30932576e-01,\n",
      "         5.18605970e-02,  1.26337187e-01, -2.76578758e-01,\n",
      "        -2.08147756e-02, -4.10727799e-01,  1.43499534e-01,\n",
      "        -6.06310143e-02,  1.44620160e-01, -4.09781490e-01,\n",
      "         1.55102248e-01, -6.67926634e-02, -1.75658956e-01,\n",
      "        -1.67690762e-01,  1.02049860e-01],\n",
      "       [ 4.21667910e-01, -3.13262972e-01, -2.45857733e-01,\n",
      "         3.19820922e-01, -2.54382906e-01, -5.52891196e-03,\n",
      "         5.24619096e-01, -3.16006834e-01,  1.31652981e-01,\n",
      "         4.59870901e-01, -4.21139239e-01,  2.90503638e-01,\n",
      "        -3.05912512e-01,  3.34030381e-01,  2.08103806e-01,\n",
      "         5.27394068e-02, -1.47036365e-01, -1.33273096e-01,\n",
      "        -4.87617884e-01,  6.31612351e-02, -1.32539429e-01,\n",
      "         5.02802265e-01, -2.35067433e-01,  2.58040048e-01,\n",
      "        -1.06117703e-01,  3.14898029e-01, -5.97091149e-01,\n",
      "        -1.24319382e-01,  4.80967095e-02,  5.37181904e-01,\n",
      "        -4.20818224e-01, -4.40346130e-01, -1.94044540e-01,\n",
      "         1.16803445e-01, -6.80770882e-01,  4.18355990e-02,\n",
      "         1.69422715e-01,  3.19598871e-01,  1.07936335e-01,\n",
      "         3.37523464e-01, -9.45079625e-03, -2.29595896e-01,\n",
      "        -7.59634033e-02,  2.85682460e-01,  2.54065740e-01,\n",
      "        -3.14686328e-01, -6.11512400e-01, -2.04718566e-01,\n",
      "         1.02343286e-01, -7.86206244e-01],\n",
      "       [-1.01436843e-01,  3.29118465e-03,  1.51188957e-01,\n",
      "        -4.26150493e-01, -2.61614641e-01, -2.01160056e-01,\n",
      "        -5.45351570e-02,  1.04220738e-01, -6.38472738e-01,\n",
      "         3.40737337e-02,  1.70450691e-01,  1.40774600e-01,\n",
      "         1.86170494e-03, -1.08642451e-01, -1.83673716e-01,\n",
      "         1.19386468e-01, -3.32843456e-01,  2.80656934e-01,\n",
      "         2.85228986e-01, -2.19351849e-01, -2.04709531e-01,\n",
      "         1.91039899e-01,  1.54093300e-01, -3.56285136e-01,\n",
      "        -1.06424779e-01, -2.82793285e-01,  2.90450422e-01,\n",
      "         2.83249112e-01,  1.20814613e-01, -2.28313723e-01,\n",
      "         1.41536760e-01,  4.70521757e-01, -5.15178610e-02,\n",
      "        -1.42831037e-01,  4.95414784e-01, -2.45903468e-02,\n",
      "         1.53440185e-01,  1.95969784e-01, -4.53362775e-01,\n",
      "         1.57493487e-01,  5.65641274e-02,  1.71333943e-01,\n",
      "         1.34029145e-01,  1.42838396e-02, -4.43022178e-01,\n",
      "         2.76090706e-01, -9.65451014e-02, -2.99163412e-01,\n",
      "        -3.86851421e-01,  5.50274715e-01],\n",
      "       [ 2.95041874e-01,  1.73136925e-01, -3.39069112e-01,\n",
      "         1.67235051e-01,  4.17988040e-01,  7.67423306e-01,\n",
      "        -1.22439079e-02, -6.64739651e-02,  4.50359406e-01,\n",
      "        -3.76794951e-01,  1.22706614e-01,  4.03594765e-01,\n",
      "         6.11138490e-02,  7.79552262e-03,  2.75066613e-01,\n",
      "         2.65064118e-01,  4.30438222e-01, -6.04914241e-01,\n",
      "         8.23178469e-02, -5.41559643e-01,  6.20436356e-01,\n",
      "         5.30296142e-01,  1.66320695e-01,  1.18940204e-01,\n",
      "         6.99984782e-02,  1.04792495e-01, -3.33420260e-01,\n",
      "        -2.65482561e-01, -7.51754742e-01,  5.08935001e-02,\n",
      "        -7.96786846e-01, -5.47071863e-01,  3.31380145e-02,\n",
      "         2.47035397e-03, -2.81387315e-01, -1.15873820e-01,\n",
      "        -7.45565211e-02, -9.24223318e-01,  3.67885013e-01,\n",
      "        -3.57650047e-01,  1.48542187e-01, -2.62440619e-01,\n",
      "        -2.33119141e-02,  8.64988921e-02,  2.44336680e-01,\n",
      "         1.34754991e-01, -5.89872053e-02,  5.86738329e-01,\n",
      "         3.35179550e-01,  7.17616162e-02],\n",
      "       [ 5.49522143e-01, -1.99819208e-01, -1.74512972e-02,\n",
      "         3.28998464e-01, -5.11290047e-01, -2.48565099e-01,\n",
      "         2.02904302e-01,  3.91875916e-02, -1.74199417e-01,\n",
      "        -2.10605686e-01, -6.28604819e-01,  3.64834116e-02,\n",
      "        -4.17137771e-01,  6.70796300e-02,  2.46368701e-01,\n",
      "        -1.71954235e-01,  3.05155929e-03,  1.99120307e-01,\n",
      "        -7.10775094e-01,  1.44129649e-01, -3.15658577e-01,\n",
      "         1.66871122e-01,  1.60908375e-01,  3.99821625e-01,\n",
      "         8.97549977e-02,  3.11527481e-01, -1.66969276e-01,\n",
      "        -8.87553558e-02,  3.32078809e-01,  6.35284472e-01,\n",
      "        -2.58304208e-01, -3.89872877e-01, -4.28550089e-01,\n",
      "        -1.75483816e-01, -2.61697935e-01,  3.35991915e-02,\n",
      "         1.97140902e-01,  4.47424457e-01,  1.53387313e-01,\n",
      "         6.58106968e-02,  1.58205230e-01, -3.00630797e-01,\n",
      "        -4.17008779e-01,  4.44016785e-01,  3.68306731e-01,\n",
      "        -3.43306032e-01, -5.18120472e-01, -3.55874513e-01,\n",
      "         3.40162092e-01, -7.40808151e-01],\n",
      "       [ 6.44928853e-01,  2.17182873e-01, -4.45144799e-01,\n",
      "        -4.35562250e-01, -7.93507798e-01, -1.61119679e-01,\n",
      "         1.45529994e-01, -5.19741111e-02, -5.29623513e-01,\n",
      "         1.29152895e-01,  2.69364614e-01,  4.00273255e-01,\n",
      "        -4.00896141e-01, -7.83617059e-02, -1.38408617e-01,\n",
      "         1.39072914e-01, -2.59585580e-01,  6.94826317e-02,\n",
      "         3.45523974e-01, -3.94766753e-03, -2.95953347e-01,\n",
      "         2.11713853e-01,  9.99185135e-02, -2.35981947e-01,\n",
      "         2.53915173e-01,  5.47386985e-01, -1.52121212e-01,\n",
      "         3.14442574e-01,  5.36684616e-01,  2.47848997e-01,\n",
      "         2.49200496e-01,  5.02280045e-01,  3.55252546e-01,\n",
      "        -2.79484152e-01,  1.08829964e-01,  2.26878981e-01,\n",
      "         1.76101703e-01,  2.28265884e-01,  5.03930924e-01,\n",
      "         1.32886808e-01,  6.49546989e-01, -5.07279548e-01,\n",
      "        -2.06375446e-01,  2.94363055e-01,  2.95129410e-01,\n",
      "        -3.05500081e-01, -6.11200549e-01, -3.54929185e-01,\n",
      "         2.92534160e-02, -4.98730495e-01],\n",
      "       [ 7.55913381e-01, -5.32418761e-01,  4.23906304e-01,\n",
      "        -2.28307498e-01,  2.26838502e-01, -3.33247003e-01,\n",
      "        -7.32364131e-01,  7.01227323e-01, -5.04556253e-01,\n",
      "         3.98208835e-01, -4.61929711e-02, -4.15510272e-01,\n",
      "         1.95314753e-01, -3.19594965e-01, -8.17678878e-01,\n",
      "         9.10326313e-02, -1.14482334e-01, -2.41152358e-01,\n",
      "        -2.18144880e-01,  4.57865932e-01, -3.88330803e-02,\n",
      "        -6.10405767e-01,  4.53612839e-01,  8.12081807e-01,\n",
      "        -4.03678846e-02,  1.09252234e-02,  8.08233393e-02,\n",
      "         3.65651151e-01, -9.49031509e-02,  5.98957348e-02,\n",
      "         5.57414578e-02,  6.51859379e-01,  2.77019488e-01,\n",
      "         4.94550037e-01, -1.05215450e-01, -1.60768603e-01,\n",
      "        -1.24519470e-01,  1.95322492e-01,  3.40486818e-01,\n",
      "        -2.35190888e-01, -2.82338548e-01, -2.57790415e-01,\n",
      "        -8.45588464e-02,  1.06420518e-01,  3.80786047e-01,\n",
      "        -5.68827619e-01, -5.62031517e-02,  2.44417416e-01,\n",
      "         2.45700034e-01, -4.51634419e-01],\n",
      "       [-1.87071266e-01, -2.13519411e-01,  7.96779393e-01,\n",
      "         2.48745995e-01,  6.57025198e-01, -2.60901840e-01,\n",
      "         9.32752266e-02,  2.12155779e-02,  6.55764322e-01,\n",
      "         6.44812407e-01, -2.19576262e-01, -3.42121478e-01,\n",
      "         2.74416918e-01, -4.46866078e-02,  1.13967822e-01,\n",
      "        -3.21321316e-02,  2.88022461e-01, -2.66008546e-01,\n",
      "        -1.94464023e-01,  4.27711950e-01, -3.00457941e-02,\n",
      "        -4.79616098e-01, -1.14704784e-01,  6.19243357e-01,\n",
      "        -7.05981965e-01, -4.13465956e-01, -1.41960866e-01,\n",
      "        -6.26924964e-02, -3.84203623e-01,  7.93154324e-02,\n",
      "        -1.04598867e-01, -2.30628849e-01,  1.12427733e-01,\n",
      "        -1.57298823e-01,  2.12445179e-01, -2.70165713e-01,\n",
      "        -2.25119798e-01, -4.55111892e-01,  2.25320260e-01,\n",
      "        -1.60968202e-01, -4.81958199e-01,  3.06723922e-01,\n",
      "         2.57793331e-01, -5.41845567e-02, -1.50152383e-01,\n",
      "         4.74410189e-03,  2.88692711e-01,  1.91416823e-01,\n",
      "         2.35313002e-01,  4.58411479e-02],\n",
      "       [-1.17076202e-01,  1.46030342e-01, -2.74007639e-01,\n",
      "        -1.97916111e-01,  4.06992194e-01,  3.96513407e-01,\n",
      "        -4.35459007e-01, -2.59250801e-01,  3.81751227e-01,\n",
      "         8.79622152e-02, -1.81575726e-01, -2.06799651e-01,\n",
      "         8.45464014e-04, -1.89576677e-01,  6.82148803e-02,\n",
      "        -7.74462254e-02,  1.14062691e-01,  1.19278705e-01,\n",
      "         3.20405081e-01, -3.69333722e-01,  2.74685883e-01,\n",
      "         1.17371608e-01, -2.58646387e-01,  1.52764358e-02,\n",
      "         4.18553418e-01,  4.12177022e-02,  3.01588264e-01,\n",
      "        -2.96269731e-01, -3.24709798e-01, -7.14195530e-03,\n",
      "         1.13528854e-02, -2.20543650e-01,  1.26456905e-01,\n",
      "         3.12562405e-01, -4.86484244e-02, -1.36436556e-01,\n",
      "        -2.28758161e-02, -1.05979952e-01,  3.26458408e-01,\n",
      "        -3.72438535e-01, -2.73617804e-02, -8.54617742e-02,\n",
      "         2.28433927e-01, -1.82773937e-01, -1.45276400e-01,\n",
      "         2.71371924e-01,  4.25888483e-01,  3.62585141e-01,\n",
      "        -2.09013529e-01,  2.57933209e-01]]), array([[ 1.84066831e+00,  1.19029973e-02, -9.07324877e-01,\n",
      "         1.41749772e+00, -7.29373764e-01,  3.16173482e-02,\n",
      "         1.14839462e+00, -5.61504480e-01, -2.28760255e+00,\n",
      "        -2.62884705e-01],\n",
      "       [-1.02547119e+00,  3.91138026e-01, -8.91743408e-01,\n",
      "        -6.20469444e-01,  1.13141992e+00, -7.51635625e-01,\n",
      "        -1.77696088e+00,  8.01648049e-01,  1.00738282e+00,\n",
      "         1.06662650e+00],\n",
      "       [ 1.68743480e+00,  1.83390604e-02, -4.64791035e-01,\n",
      "         2.08814526e-01,  7.59058134e-01, -2.06427857e-01,\n",
      "        -1.29507794e+00, -1.41419058e+00,  3.24535082e-01,\n",
      "         5.37105735e-01],\n",
      "       [ 7.08281880e-02,  1.46562576e+00,  1.84108246e-03,\n",
      "         8.27484320e-01, -1.76371767e+00, -1.67996547e-01,\n",
      "        -4.15836820e-01, -9.08371602e-01,  7.39988047e-01,\n",
      "         2.26451983e-01],\n",
      "       [-1.19702740e+00, -3.30287508e-01,  1.08451685e+00,\n",
      "        -6.13947080e-01,  9.96159141e-01,  1.20044484e+00,\n",
      "         9.99864011e-01, -8.66195671e-01, -8.47607852e-01,\n",
      "         3.28271870e-01],\n",
      "       [ 1.70237798e-01,  3.41144500e-01, -1.23037170e+00,\n",
      "         4.13340109e-01, -6.46671893e-01, -3.82132086e-01,\n",
      "         7.87161872e-01,  1.15396479e+00, -3.13110344e-01,\n",
      "         4.98523579e-01],\n",
      "       [ 5.30028629e-01, -7.39847808e-01,  3.25785595e-02,\n",
      "         1.79139912e-01,  1.66470573e+00, -7.47955845e-01,\n",
      "         3.07918047e-01, -1.54301222e+00, -4.94912781e-01,\n",
      "         6.83544374e-01],\n",
      "       [-3.54815368e-01,  3.96527471e-01,  1.25112764e+00,\n",
      "        -2.07138948e-01, -6.78151687e-01,  1.56315759e+00,\n",
      "         2.39782160e-01,  1.23665536e+00, -1.41560408e-01,\n",
      "        -8.91124941e-01],\n",
      "       [-4.80116436e-01,  9.05060697e-01, -4.39268782e-01,\n",
      "         1.06007912e-01,  3.36037985e-02, -6.45294230e-01,\n",
      "         7.38734704e-02,  4.85856570e-01,  7.76527391e-01,\n",
      "        -2.92662266e-01],\n",
      "       [-1.05156595e+00,  3.74510098e-01,  1.05453427e+00,\n",
      "        -6.61912467e-01,  2.78090853e-01,  1.29659709e+00,\n",
      "         7.70722782e-01,  1.03609335e-01,  5.94334317e-02,\n",
      "        -4.72099807e-01]])], 'b': [array([[ 0.04628612],\n",
      "       [-0.0260636 ],\n",
      "       [-0.00503502],\n",
      "       [ 0.02366701],\n",
      "       [ 0.01216336],\n",
      "       [ 0.0191012 ],\n",
      "       [-0.04500271],\n",
      "       [ 0.0214718 ],\n",
      "       [ 0.03426236],\n",
      "       [ 0.01969631],\n",
      "       [-0.05096436],\n",
      "       [-0.02462378],\n",
      "       [ 0.00701354],\n",
      "       [-0.01320242],\n",
      "       [-0.02032136],\n",
      "       [-0.00852474],\n",
      "       [ 0.02696567],\n",
      "       [-0.02173311],\n",
      "       [ 0.00114753],\n",
      "       [-0.01381326],\n",
      "       [ 0.02230496],\n",
      "       [-0.01081878],\n",
      "       [ 0.01330564],\n",
      "       [ 0.04096195],\n",
      "       [ 0.02361738],\n",
      "       [ 0.01434599],\n",
      "       [ 0.0227668 ],\n",
      "       [-0.0261736 ],\n",
      "       [-0.01942385],\n",
      "       [ 0.0041027 ],\n",
      "       [-0.04264167],\n",
      "       [-0.03117161],\n",
      "       [-0.00058532],\n",
      "       [ 0.01681631],\n",
      "       [-0.03223375],\n",
      "       [-0.0101445 ],\n",
      "       [ 0.00710955],\n",
      "       [-0.00584269],\n",
      "       [ 0.06867176],\n",
      "       [-0.03146451],\n",
      "       [-0.01565426],\n",
      "       [-0.04809996],\n",
      "       [-0.00539949],\n",
      "       [-0.00616009],\n",
      "       [ 0.04431055],\n",
      "       [-0.0211809 ],\n",
      "       [ 0.01093746],\n",
      "       [ 0.0240132 ],\n",
      "       [ 0.02747416],\n",
      "       [ 0.00193444]]), array([[-0.16516916],\n",
      "       [ 0.0584405 ],\n",
      "       [ 0.04110747],\n",
      "       [-0.08321343],\n",
      "       [ 0.04045765],\n",
      "       [ 0.00654576],\n",
      "       [ 0.06713733],\n",
      "       [ 0.1230939 ],\n",
      "       [ 0.12113181],\n",
      "       [ 0.03911775]]), array([[-6.17561479e-02],\n",
      "       [-9.63188049e-04],\n",
      "       [ 3.59700012e-01],\n",
      "       [ 4.54595514e-01],\n",
      "       [-1.20127517e-01],\n",
      "       [-1.14558463e-04],\n",
      "       [ 2.94779444e-01],\n",
      "       [-6.49147829e-01],\n",
      "       [ 1.85897166e-01],\n",
      "       [-4.62862895e-01]])]}\n"
     ]
    }
   ],
   "source": [
    "print(cls.parameters)"
   ]
  },
  {
   "cell_type": "code",
   "execution_count": 657,
   "metadata": {},
   "outputs": [
    {
     "name": "stdout",
     "output_type": "stream",
     "text": [
      "(8400, 10)\n"
     ]
    }
   ],
   "source": [
    "Y_prob = cls.predict_proba(X_test)\n",
    "print(Y_prob.shape)"
   ]
  },
  {
   "cell_type": "code",
   "execution_count": 658,
   "metadata": {},
   "outputs": [
    {
     "data": {
      "text/plain": [
       "array([[0.00462888, 0.35236618, 0.12199222, ..., 0.02643851, 0.17437454,\n",
       "        0.0524323 ],\n",
       "       [0.00147304, 0.62945647, 0.05828435, ..., 0.0143913 , 0.1324565 ,\n",
       "        0.02205496],\n",
       "       [0.00354049, 0.00678529, 0.00246488, ..., 0.45791759, 0.047764  ,\n",
       "        0.31707375],\n",
       "       ...,\n",
       "       [0.04838862, 0.03663049, 0.1322432 , ..., 0.01299085, 0.11838627,\n",
       "        0.00796496],\n",
       "       [0.62892406, 0.00337951, 0.04702582, ..., 0.01404076, 0.02889977,\n",
       "        0.00810473],\n",
       "       [0.00351645, 0.01984729, 0.01516693, ..., 0.17253815, 0.04844282,\n",
       "        0.34437345]])"
      ]
     },
     "execution_count": 658,
     "metadata": {},
     "output_type": "execute_result"
    }
   ],
   "source": [
    "Y_prob"
   ]
  },
  {
   "cell_type": "code",
   "execution_count": 659,
   "metadata": {},
   "outputs": [
    {
     "name": "stdout",
     "output_type": "stream",
     "text": [
      "0.004628877075771655\n",
      "0.3523661785606772\n",
      "0.12199222072377298\n",
      "0.0629630697662469\n",
      "0.04230271382752705\n",
      "0.06098870284461641\n",
      "0.10151289332797599\n",
      "0.026438508239424226\n",
      "0.1743745389946007\n",
      "0.05243229663938679\n"
     ]
    }
   ],
   "source": [
    "for i in range(len(Y_prob[0])):\n",
    "    print((Y_prob[0][i]))"
   ]
  },
  {
   "cell_type": "code",
   "execution_count": 660,
   "metadata": {},
   "outputs": [
    {
     "data": {
      "text/plain": [
       "0.9999999999999999"
      ]
     },
     "execution_count": 660,
     "metadata": {},
     "output_type": "execute_result"
    }
   ],
   "source": [
    "Y_prob[0][0:10].sum()"
   ]
  },
  {
   "cell_type": "code",
   "execution_count": 661,
   "metadata": {},
   "outputs": [
    {
     "data": {
      "text/plain": [
       "array([1, 1, 7, ..., 3, 0, 9], dtype=int64)"
      ]
     },
     "execution_count": 661,
     "metadata": {},
     "output_type": "execute_result"
    }
   ],
   "source": [
    "Y_hat = cls.predict(X_test)\n",
    "Y_hat"
   ]
  },
  {
   "cell_type": "code",
   "execution_count": 662,
   "metadata": {},
   "outputs": [
    {
     "data": {
      "text/plain": [
       "0.7316666666666667"
      ]
     },
     "execution_count": 662,
     "metadata": {},
     "output_type": "execute_result"
    }
   ],
   "source": [
    "accuracy_score(y_test, Y_hat)"
   ]
  },
  {
   "cell_type": "code",
   "execution_count": null,
   "metadata": {},
   "outputs": [],
   "source": []
  }
 ],
 "metadata": {
  "anaconda-cloud": {},
  "kernelspec": {
   "display_name": "Python 3",
   "language": "python",
   "name": "python3"
  },
  "language_info": {
   "codemirror_mode": {
    "name": "ipython",
    "version": 3
   },
   "file_extension": ".py",
   "mimetype": "text/x-python",
   "name": "python",
   "nbconvert_exporter": "python",
   "pygments_lexer": "ipython3",
   "version": "3.7.7"
  }
 },
 "nbformat": 4,
 "nbformat_minor": 1
}
